{
 "cells": [
  {
   "cell_type": "code",
   "execution_count": 1,
   "metadata": {},
   "outputs": [],
   "source": [
    "import numpy as np\n",
    "import pandas as pd\n",
    "import matplotlib.pyplot as plt\n",
    "from sklearn.svm import SVC"
   ]
  },
  {
   "cell_type": "code",
   "execution_count": 2,
   "metadata": {},
   "outputs": [
    {
     "data": {
      "text/html": [
       "<div>\n",
       "<style scoped>\n",
       "    .dataframe tbody tr th:only-of-type {\n",
       "        vertical-align: middle;\n",
       "    }\n",
       "\n",
       "    .dataframe tbody tr th {\n",
       "        vertical-align: top;\n",
       "    }\n",
       "\n",
       "    .dataframe thead th {\n",
       "        text-align: right;\n",
       "    }\n",
       "</style>\n",
       "<table border=\"1\" class=\"dataframe\">\n",
       "  <thead>\n",
       "    <tr style=\"text-align: right;\">\n",
       "      <th></th>\n",
       "      <th>age</th>\n",
       "      <th>restbps</th>\n",
       "      <th>chol</th>\n",
       "      <th>category</th>\n",
       "    </tr>\n",
       "  </thead>\n",
       "  <tbody>\n",
       "    <tr>\n",
       "      <td>0</td>\n",
       "      <td>26</td>\n",
       "      <td>109</td>\n",
       "      <td>243</td>\n",
       "      <td>0</td>\n",
       "    </tr>\n",
       "    <tr>\n",
       "      <td>1</td>\n",
       "      <td>27</td>\n",
       "      <td>106</td>\n",
       "      <td>156</td>\n",
       "      <td>0</td>\n",
       "    </tr>\n",
       "    <tr>\n",
       "      <td>2</td>\n",
       "      <td>28</td>\n",
       "      <td>107</td>\n",
       "      <td>225</td>\n",
       "      <td>0</td>\n",
       "    </tr>\n",
       "    <tr>\n",
       "      <td>3</td>\n",
       "      <td>27</td>\n",
       "      <td>105</td>\n",
       "      <td>277</td>\n",
       "      <td>0</td>\n",
       "    </tr>\n",
       "    <tr>\n",
       "      <td>4</td>\n",
       "      <td>30</td>\n",
       "      <td>96</td>\n",
       "      <td>221</td>\n",
       "      <td>0</td>\n",
       "    </tr>\n",
       "  </tbody>\n",
       "</table>\n",
       "</div>"
      ],
      "text/plain": [
       "   age  restbps  chol  category\n",
       "0   26      109   243         0\n",
       "1   27      106   156         0\n",
       "2   28      107   225         0\n",
       "3   27      105   277         0\n",
       "4   30       96   221         0"
      ]
     },
     "execution_count": 2,
     "metadata": {},
     "output_type": "execute_result"
    }
   ],
   "source": [
    "data = pd.read_csv('health_data.csv')\n",
    "data.head()"
   ]
  },
  {
   "cell_type": "code",
   "execution_count": 3,
   "metadata": {},
   "outputs": [
    {
     "name": "stderr",
     "output_type": "stream",
     "text": [
      "C:\\Users\\Acer\\Anaconda3\\lib\\site-packages\\ipykernel_launcher.py:9: FutureWarning: Using a non-tuple sequence for multidimensional indexing is deprecated; use `arr[tuple(seq)]` instead of `arr[seq]`. In the future this will be interpreted as an array index, `arr[np.array(seq)]`, which will result either in an error or a different result.\n",
      "  if __name__ == '__main__':\n",
      "C:\\Users\\Acer\\Anaconda3\\lib\\site-packages\\ipykernel_launcher.py:10: FutureWarning: Using a non-tuple sequence for multidimensional indexing is deprecated; use `arr[tuple(seq)]` instead of `arr[seq]`. In the future this will be interpreted as an array index, `arr[np.array(seq)]`, which will result either in an error or a different result.\n",
      "  # Remove the CWD from sys.path while we load stuff.\n",
      "C:\\Users\\Acer\\Anaconda3\\lib\\site-packages\\ipykernel_launcher.py:12: FutureWarning: Using a non-tuple sequence for multidimensional indexing is deprecated; use `arr[tuple(seq)]` instead of `arr[seq]`. In the future this will be interpreted as an array index, `arr[np.array(seq)]`, which will result either in an error or a different result.\n",
      "  if sys.path[0] == '':\n",
      "C:\\Users\\Acer\\Anaconda3\\lib\\site-packages\\ipykernel_launcher.py:13: FutureWarning: Using a non-tuple sequence for multidimensional indexing is deprecated; use `arr[tuple(seq)]` instead of `arr[seq]`. In the future this will be interpreted as an array index, `arr[np.array(seq)]`, which will result either in an error or a different result.\n",
      "  del sys.path[0]\n"
     ]
    }
   ],
   "source": [
    "X = data.to_numpy()[:, :3]\n",
    "Y = data.to_numpy()[:, 3]\n",
    "\n",
    "\n",
    "split = 0.7 #using 70:30 split, random each time\n",
    "train_samples = np.random.choice(X.shape[0], int(split*X.shape[0]))\n",
    "test_samples = np.array([i for i in range(X.shape[0]) if i not in list(train_samples)])\n",
    "\n",
    "X_train = X[[train_samples]]\n",
    "Y_train = Y[[train_samples]]\n",
    "\n",
    "X_test = X[[test_samples]]\n",
    "Y_test = Y[[test_samples]]\n",
    "\n",
    "\n",
    "X_0 = X_train[Y_train == 0]\n",
    "X_1 = X_train[Y_train == 1]\n",
    "\n",
    "#X_0 = data[data['category'] == 0].to_numpy()[:, :3]\n",
    "#X_1 = data[data['category'] == 1].to_numpy()[:, :3]\n",
    "#how to split data into test and train?"
   ]
  },
  {
   "cell_type": "code",
   "execution_count": 9,
   "metadata": {},
   "outputs": [],
   "source": [
    "def eval_classifier(f, X, Y):\n",
    "    Y_ = f.predict(X)\n",
    "    conf = np.zeros((2, 2))\n",
    "    for y, y_ in zip(Y, Y_):\n",
    "        conf[y][y_] += 1\n",
    "    \n",
    "    return {'conf':conf, 'acc': (conf[0,0] + conf[1,1])/np.sum(conf), 'prec': conf[1,1]/(conf[1,1] + conf[0,1]), 'rec':conf[1,1]/(conf[1,1] + conf[1,0])}\n",
    "\n",
    "def calc_avg_metrics(metrics):\n",
    "    keys = ['conf', 'acc', 'prec', 'rec']\n",
    "    avg_metrics = {}\n",
    "    for key in keys:\n",
    "        avg_metrics[key] = sum([ m[key] for m in metrics])/len(metrics)\n",
    "    return avg_metrics "
   ]
  },
  {
   "cell_type": "code",
   "execution_count": 6,
   "metadata": {},
   "outputs": [
    {
     "data": {
      "text/plain": [
       "SVC(C=1.0, cache_size=200, class_weight=None, coef0=0.0,\n",
       "    decision_function_shape='ovr', degree=3, gamma='auto_deprecated',\n",
       "    kernel='linear', max_iter=-1, probability=False, random_state=42,\n",
       "    shrinking=True, tol=0.001, verbose=False)"
      ]
     },
     "execution_count": 6,
     "metadata": {},
     "output_type": "execute_result"
    }
   ],
   "source": [
    "linear_svm = SVC(C=1.0, kernel='linear', random_state=42)\n",
    "linear_svm.fit(X_train, Y_train)\n",
    "#that was pretty fast"
   ]
  },
  {
   "cell_type": "code",
   "execution_count": 7,
   "metadata": {},
   "outputs": [
    {
     "name": "stdout",
     "output_type": "stream",
     "text": [
      "on training data\n",
      "{'conf': array([[264.,  29.],\n",
      "       [ 28., 168.]]), 'acc': 0.8834355828220859, 'prec': 0.8527918781725888, 'rec': 0.8571428571428571}\n",
      "on test data\n",
      "{'conf': array([[168.,  26.],\n",
      "       [ 31., 125.]]), 'acc': 0.8371428571428572, 'prec': 0.8278145695364238, 'rec': 0.8012820512820513}\n"
     ]
    }
   ],
   "source": [
    "print(\"on training data\"); \n",
    "conf = eval_classifier(linear_svm, X_train, Y_train);\n",
    "print(conf)\n",
    "\n",
    "print(\"on test data\"); \n",
    "conf = eval_classifier(linear_svm, X_test, Y_test);\n",
    "print(conf)"
   ]
  },
  {
   "cell_type": "code",
   "execution_count": 10,
   "metadata": {},
   "outputs": [
    {
     "name": "stderr",
     "output_type": "stream",
     "text": [
      "100%|██████████████████████████████████████████████████████████████████████████████████████████████████████████████████████████████████████| 20/20 [08:11<00:00, 24.55s/it]\n"
     ]
    },
    {
     "data": {
      "text/plain": [
       "[<matplotlib.lines.Line2D at 0x2698f7370c8>]"
      ]
     },
     "execution_count": 10,
     "metadata": {},
     "output_type": "execute_result"
    },
    {
     "data": {
      "image/png": "[encoded data removed]",
      "text/plain": [
       "<Figure size 432x288 with 1 Axes>"
      ]
     },
     "metadata": {
      "needs_background": "light"
     },
     "output_type": "display_data"
    }
   ],
   "source": [
    "#great precision and recall on training data! Lets us try to experiment with values of C.\n",
    "from tqdm import tqdm\n",
    "PREC = []\n",
    "REC = []\n",
    "for c in tqdm(np.linspace(1,500, 20)):\n",
    "    f = SVC(C=c, kernel='linear', random_state=42)\n",
    "    f.fit(X_train, Y_train)\n",
    "    results = eval_classifier(f, X_test, Y_test)\n",
    "    PREC.append(results['prec'])\n",
    "    REC.append(results['rec'])\n",
    "plt.plot(PREC)\n",
    "plt.plot(REC)"
   ]
  },
  {
   "cell_type": "code",
   "execution_count": 12,
   "metadata": {},
   "outputs": [
    {
     "name": "stdout",
     "output_type": "stream",
     "text": [
      "on training data\n",
      "{'conf': array([[272.,  21.],\n",
      "       [ 37., 159.]]), 'acc': 0.8813905930470347, 'prec': 0.8833333333333333, 'rec': 0.8112244897959183}\n",
      "on test data\n",
      "{'conf': array([[171.,  23.],\n",
      "       [ 33., 123.]]), 'acc': 0.84, 'prec': 0.8424657534246576, 'rec': 0.7884615384615384}\n"
     ]
    }
   ],
   "source": [
    "#not much effect of C.\n",
    "#changing kernel\n",
    "poly_svm = SVC(kernel='poly', degree=2, gamma=1.0, coef0=1.0, C=1.0)\n",
    "poly_svm.fit(X_train, Y_train)\n",
    "\n",
    "print(\"on training data\"); \n",
    "conf = eval_classifier(poly_svm, X_train, Y_train);\n",
    "print(conf)\n",
    "\n",
    "print(\"on test data\"); \n",
    "conf = eval_classifier(poly_svm, X_test, Y_test);\n",
    "print(conf)"
   ]
  },
  {
   "cell_type": "code",
   "execution_count": 5,
   "metadata": {},
   "outputs": [],
   "source": [
    "%reload_ext autoreload\n",
    "%autoreload 1\n",
    "%aimport utils.cross_validation"
   ]
  },
  {
   "cell_type": "code",
   "execution_count": 40,
   "metadata": {},
   "outputs": [
    {
     "name": "stdout",
     "output_type": "stream",
     "text": [
      "Serial Done.\n",
      "Serial in 101.82693290710449s. Parrallel in 51.229363679885864s\n"
     ]
    }
   ],
   "source": [
    "#lets do a grid search over the parameters!\n",
    "#will have to implement cross-validation for this. \n",
    "#testing some code that I wrote\n",
    "%aimport utils\n",
    "from utils.cross_validation import cross_validation, cross_validation_serial\n",
    "import time\n",
    "\n",
    "\n",
    "arg_dict = {'kernel':'poly', 'degree':2, 'gamma':1.0, 'coef0':1.0, 'C':1.0}\n",
    "t1 = time.time()\n",
    "metrics = cross_validation_serial(arg_dict=arg_dict, X=X, Y=Y)\n",
    "t2 = time.time()\n",
    "print('Serial Done.')\n",
    "metrics = cross_validation(arg_dict=arg_dict, X=X, Y=Y)\n",
    "t3 = time.time()\n",
    "\n",
    "print('Serial in {}s. Parrallel in {}s'.format(t2-t1, t3-t2))\n",
    "#Cross Validation takes 50s?!"
   ]
  },
  {
   "cell_type": "code",
   "execution_count": 47,
   "metadata": {
    "scrolled": true
   },
   "outputs": [
    {
     "data": {
      "text/plain": [
       "{'conf': array([[67.4, 12.6],\n",
       "        [ 9. , 51. ]]),\n",
       " 'acc': 0.8457142857142859,\n",
       " 'prec': 0.800281596524979,\n",
       " 'rec': 0.8523083928821634}"
      ]
     },
     "execution_count": 47,
     "metadata": {},
     "output_type": "execute_result"
    }
   ],
   "source": [
    "calc_avg_metrics(metrics)"
   ]
  },
  {
   "cell_type": "code",
   "execution_count": 7,
   "metadata": {},
   "outputs": [
    {
     "name": "stdout",
     "output_type": "stream",
     "text": [
      "Performing grid search over gamma, c... Done. Time Elapsed = 159.48145151138306\n"
     ]
    }
   ],
   "source": [
    "%aimport utils.grid_search\n",
    "from utils.grid_search import grid_search\n",
    "\n",
    "arg_dict = {'kernel':'poly', 'degree':2, 'coef0':1.0}\n",
    "\n",
    "#for polynomial\n",
    "for degree in [2,3,4]:\n",
    "    arg_dict['degree'] = degree\n",
    "    a = grid_search(arg_dict = arg_dict, X=X, Y=Y, gamma_list = np.linspace(0.5,20,25), c_list = np.linspace(1,20,25))\n",
    "    print(f'For degree {degree}, the optimal metrics are: {calc_avg_metrics(a)}')"
   ]
  },
  {
   "cell_type": "code",
   "execution_count": 8,
   "metadata": {},
   "outputs": [
    {
     "name": "stdout",
     "output_type": "stream",
     "text": [
      "[{'conf': array([[73., 15.],\n",
      "       [ 3., 49.]]), 'acc': 0.8714285714285714, 'prec': 0.765625, 'rec': 0.9423076923076923, 'kernel': 'poly', 'degree': 2, 'coef0': 1.0, 'gamma': 2, 'C': 2}, {'conf': array([[77.,  9.],\n",
      "       [10., 44.]]), 'acc': 0.8642857142857143, 'prec': 0.8301886792452831, 'rec': 0.8148148148148148, 'kernel': 'poly', 'degree': 2, 'coef0': 1.0, 'gamma': 2, 'C': 2}, {'conf': array([[72.,  7.],\n",
      "       [16., 45.]]), 'acc': 0.8357142857142857, 'prec': 0.8653846153846154, 'rec': 0.7377049180327869, 'kernel': 'poly', 'degree': 2, 'coef0': 1.0, 'gamma': 2, 'C': 2}, {'conf': array([[56., 12.],\n",
      "       [10., 62.]]), 'acc': 0.8428571428571429, 'prec': 0.8378378378378378, 'rec': 0.8611111111111112, 'kernel': 'poly', 'degree': 2, 'coef0': 1.0, 'gamma': 2, 'C': 2}, {'conf': array([[65., 14.],\n",
      "       [ 6., 55.]]), 'acc': 0.8571428571428571, 'prec': 0.7971014492753623, 'rec': 0.9016393442622951, 'kernel': 'poly', 'degree': 2, 'coef0': 1.0, 'gamma': 2, 'C': 2}]\n"
     ]
    }
   ],
   "source": [
    "#for linear\n",
    "arg_dict = {'kernel':'linear'}\n",
    "a = grid_search(arg_dict = arg_dict, X=X, Y=Y, gamma_list = [1], c_list = np.linspace(1,20,25))\n",
    "print(f'For linear, the optimal metrics are: {calc_avg_metrics(a)}')"
   ]
  },
  {
   "cell_type": "code",
   "execution_count": 10,
   "metadata": {},
   "outputs": [
    {
     "data": {
      "text/plain": [
       "{'conf': array([[68.6, 11.4],\n",
       "        [ 9. , 51. ]]),\n",
       " 'acc': 0.8542857142857143,\n",
       " 'prec': 0.8192275163486198,\n",
       " 'rec': 0.85151557610574}"
      ]
     },
     "execution_count": 10,
     "metadata": {},
     "output_type": "execute_result"
    }
   ],
   "source": [
    "#gaussian\n",
    "arg_dict = {'kernel':'rbf', 'coef0':1.0}\n",
    "a = grid_search(arg_dict = arg_dict, X=X, Y=Y, gamma_list = np.linspace(0.5,20,25), c_list = np.linspace(1,20,25))\n",
    "print(f'For Gaussian Kernel, the optimal metrics are: {calc_avg_metrics(a)}')"
   ]
  },
  {
   "cell_type": "code",
   "execution_count": null,
   "metadata": {},
   "outputs": [],
   "source": []
  }
 ],
 "metadata": {
  "kernelspec": {
   "display_name": "Python 3",
   "language": "python",
   "name": "python3"
  },
  "language_info": {
   "codemirror_mode": {
    "name": "ipython",
    "version": 3
   },
   "file_extension": ".py",
   "mimetype": "text/x-python",
   "name": "python",
   "nbconvert_exporter": "python",
   "pygments_lexer": "ipython3",
   "version": "3.7.4"
  }
 },
 "nbformat": 4,
 "nbformat_minor": 2
}
